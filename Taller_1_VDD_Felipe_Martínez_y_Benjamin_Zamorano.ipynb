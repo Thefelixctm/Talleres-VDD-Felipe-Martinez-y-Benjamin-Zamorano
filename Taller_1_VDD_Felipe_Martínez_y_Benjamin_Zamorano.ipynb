{
  "nbformat": 4,
  "nbformat_minor": 0,
  "metadata": {
    "colab": {
      "provenance": [],
      "collapsed_sections": [
        "xAcYIyh-lm46"
      ]
    },
    "kernelspec": {
      "name": "python3",
      "display_name": "Python 3"
    },
    "language_info": {
      "name": "python"
    }
  },
  "cells": [
    {
      "cell_type": "markdown",
      "source": [
        "# 1. Conexión a la API de Reddit"
      ],
      "metadata": {
        "id": "s50jNTrujYr6"
      }
    },
    {
      "cell_type": "code",
      "source": [
        "!pip install praw"
      ],
      "metadata": {
        "colab": {
          "base_uri": "https://localhost:8080/"
        },
        "id": "UJjoVQXLcxi7",
        "outputId": "c05cd15c-4a41-47fb-f918-da1c56c0e433"
      },
      "execution_count": 11,
      "outputs": [
        {
          "output_type": "stream",
          "name": "stdout",
          "text": [
            "Requirement already satisfied: praw in /usr/local/lib/python3.11/dist-packages (7.8.1)\n",
            "Requirement already satisfied: prawcore<3,>=2.4 in /usr/local/lib/python3.11/dist-packages (from praw) (2.4.0)\n",
            "Requirement already satisfied: update_checker>=0.18 in /usr/local/lib/python3.11/dist-packages (from praw) (0.18.0)\n",
            "Requirement already satisfied: websocket-client>=0.54.0 in /usr/local/lib/python3.11/dist-packages (from praw) (1.8.0)\n",
            "Requirement already satisfied: requests<3.0,>=2.6.0 in /usr/local/lib/python3.11/dist-packages (from prawcore<3,>=2.4->praw) (2.32.3)\n",
            "Requirement already satisfied: charset-normalizer<4,>=2 in /usr/local/lib/python3.11/dist-packages (from requests<3.0,>=2.6.0->prawcore<3,>=2.4->praw) (3.4.1)\n",
            "Requirement already satisfied: idna<4,>=2.5 in /usr/local/lib/python3.11/dist-packages (from requests<3.0,>=2.6.0->prawcore<3,>=2.4->praw) (3.10)\n",
            "Requirement already satisfied: urllib3<3,>=1.21.1 in /usr/local/lib/python3.11/dist-packages (from requests<3.0,>=2.6.0->prawcore<3,>=2.4->praw) (2.3.0)\n",
            "Requirement already satisfied: certifi>=2017.4.17 in /usr/local/lib/python3.11/dist-packages (from requests<3.0,>=2.6.0->prawcore<3,>=2.4->praw) (2025.1.31)\n"
          ]
        }
      ]
    },
    {
      "cell_type": "code",
      "source": [
        "# Inicializar las bibliotecas que se van a ocupar\n",
        "import pandas as pd\n",
        "import numpy as np\n",
        "import praw\n",
        "import datetime"
      ],
      "metadata": {
        "id": "31-_Kv4zc0dA"
      },
      "execution_count": 12,
      "outputs": []
    },
    {
      "cell_type": "code",
      "source": [
        "# Ingresar la credencial de la app\n",
        "reddit = praw.Reddit(\n",
        "    client_id=\"sK9R4lwlS5M729o9UmJNFg\",\n",
        "    client_secret=\"1Ap0QuShHPFx7SNOnwTbplopx5oUgQ\",\n",
        "    user_agent=\"Annual_Kick1027\",\n",
        "    check_for_async=False #Quitar advertencia\n",
        "    )"
      ],
      "metadata": {
        "id": "rE_qmjsxc3eX"
      },
      "execution_count": 13,
      "outputs": []
    },
    {
      "cell_type": "code",
      "source": [
        "# Definir función para mostrar los datos esenciales del SubReddit\n",
        "def info_subreddit(subreddit):\n",
        "  print(f\"Nombre completo: r/{subreddit.display_name}\")\n",
        "  print(f\"Titulo: {subreddit.title}\")\n",
        "  print(f\"Descripcion: {subreddit.public_description}\")\n",
        "  print(f\"Suscriptores: {subreddit.subscribers}\")\n",
        "  print(f\"Usuarios activos: {subreddit.active_user_count}\")\n",
        "  print(f\"Fecha de creacion: {datetime.datetime.fromtimestamp(subreddit.created_utc).strftime('%Y-%m-%d %H:%M:%S')}\")"
      ],
      "metadata": {
        "id": "cmG9XL3TdBnC"
      },
      "execution_count": 14,
      "outputs": []
    },
    {
      "cell_type": "code",
      "source": [
        "def extraccion_info_post(post):\n",
        "\n",
        "    if post.num_comments < 10:\n",
        "        return  # Ignora posts con menos de 10 comentarios\n",
        "\n",
        "    fecha = datetime.datetime.fromtimestamp(post.created_utc).strftime('%Y-%m-%d %H:%M:%S')\n",
        "    autor = str(post.author) if post.author else \"ELIMINADO\"\n",
        "\n",
        "    datos['id_post'].append(post.id)\n",
        "    datos['titulo_post'].append(post.title)\n",
        "    datos['fecha_post'].append(fecha)\n",
        "    datos['autor_post'].append(autor)\n",
        "    datos['URL'].append(post.url)\n",
        "    datos['numero_comentarios'].append(post.num_comments)\n",
        "    datos['texto_post'].append(post.selftext)\n",
        "    datos['Puntaje_post'].append(post.score)\n",
        "\n",
        "\n",
        "    post.comments.replace_more(limit=0)  # Evita cargar \"load more comments\"\n",
        "    for comment in post.comments[:10]:\n",
        "        if not comment.stickied:  # Ignorar comentarios fijados (usualmente son de moderadores)\n",
        "            comentarios['id_post'].append(post.id)\n",
        "            comentarios['id_comentario'].append(comment.id)\n",
        "            comentarios['autor_comentario'].append(str(comment.author) if comment.author else \"ELIMINADO\")\n",
        "            comentarios['texto_comentario'].append(comment.body)\n",
        "            comentarios['fecha_comentario'].append(\n",
        "                datetime.datetime.fromtimestamp(comment.created_utc).strftime('%Y-%m-%d %H:%M:%S')\n",
        "            )"
      ],
      "metadata": {
        "id": "ZMLP3DAYhkDl"
      },
      "execution_count": 15,
      "outputs": []
    },
    {
      "cell_type": "markdown",
      "source": [
        "# 2. Extracción de Datos"
      ],
      "metadata": {
        "id": "YIcWhJ57jj3v"
      }
    },
    {
      "cell_type": "markdown",
      "source": [
        "## SubReddit 1"
      ],
      "metadata": {
        "id": "xAcYIyh-lm46"
      }
    },
    {
      "cell_type": "code",
      "source": [
        "info_subreddit(reddit.subreddit(\"HistoriasDeReddit\"))"
      ],
      "metadata": {
        "colab": {
          "base_uri": "https://localhost:8080/"
        },
        "id": "cIkXh53OdF7s",
        "outputId": "b0845c53-a194-4c27-dc55-2fb26b0ad73b"
      },
      "execution_count": 16,
      "outputs": [
        {
          "output_type": "stream",
          "name": "stdout",
          "text": [
            "Nombre completo: r/HistoriasDeReddit\n",
            "Titulo: HistoriasDeReddit - Un lugar para contar historias personales o anécdotas que valgan la pena leer.\n",
            "Descripcion: Esta comunidad es para compartir anécdotas, ocurrencias, o historias verídicas. Pueden ser de contenido de Reddit traducido al español.\n",
            "Suscriptores: 397368\n",
            "Usuarios activos: 31\n",
            "Fecha de creacion: 2020-08-21 21:15:50\n"
          ]
        }
      ]
    },
    {
      "cell_type": "code",
      "source": [
        "datos = {\n",
        "        'id_post': [],\n",
        "        'titulo_post': [],\n",
        "        'fecha_post': [],\n",
        "        'autor_post': [],\n",
        "        'URL': [],\n",
        "        'numero_comentarios': [],\n",
        "        'texto_post': [],\n",
        "        'Puntaje_post': [],\n",
        "}\n",
        "\n",
        "# Definir los datos que se extraeran de cada comentario\n",
        "comentarios = {\n",
        "        'id_post': [],\n",
        "        'id_comentario': [],\n",
        "        'autor_comentario': [],\n",
        "        'texto_comentario': [],\n",
        "        'fecha_comentario': []\n",
        "}\n",
        "# Definir los datos que se extraeran del Post\n",
        "subreddit_obj = reddit.subreddit(\"HistoriasDeReddit\")\n",
        "contador_validos = 0\n",
        "cantidad_deseada = 120\n",
        "\n",
        "post_stream = subreddit_obj.top(limit=None, time_filter='all')\n",
        "\n",
        "for post in post_stream:\n",
        "    if post.num_comments < 10:\n",
        "        continue\n",
        "\n",
        "    extraccion_info_post(post)\n",
        "    contador_validos += 1\n",
        "\n",
        "    if contador_validos == cantidad_deseada:\n",
        "        break\n",
        "df_posts = pd.DataFrame(datos)\n",
        "df_comentarios = pd.DataFrame(comentarios)\n",
        "df_posts.to_csv('posts_reddit_1.csv', index=False, encoding='utf-8-sig')\n",
        "df_comentarios.to_csv('comentarios_reddit_1.csv', index=False, encoding='utf-8-sig')\n",
        "print(\"Posts Extraidos:\", contador_validos)\n"
      ],
      "metadata": {
        "id": "eGYK4_Jpls5g",
        "colab": {
          "base_uri": "https://localhost:8080/"
        },
        "outputId": "ce09f2e7-7828-404b-c9c7-b4e3494f1e87"
      },
      "execution_count": 17,
      "outputs": [
        {
          "output_type": "stream",
          "name": "stdout",
          "text": [
            "Posts Extraidos: 120\n"
          ]
        }
      ]
    },
    {
      "cell_type": "markdown",
      "source": [
        "## SubReddit 2"
      ],
      "metadata": {
        "id": "BGx4BiBrlnKH"
      }
    },
    {
      "cell_type": "code",
      "source": [
        "info_subreddit(reddit.subreddit(\"volleyball\"))"
      ],
      "metadata": {
        "id": "WOt9vl45lzKN",
        "colab": {
          "base_uri": "https://localhost:8080/"
        },
        "outputId": "25ee4bcd-5408-4730-e436-d68bf7857a95"
      },
      "execution_count": 18,
      "outputs": [
        {
          "output_type": "stream",
          "name": "stdout",
          "text": [
            "Nombre completo: r/volleyball\n",
            "Titulo: Volleyball\n",
            "Descripcion: /r/volleyball is Reddit's volleyball community. We have tips, videos, and general discussions about volleyball.\n",
            "Suscriptores: 270861\n",
            "Usuarios activos: 26\n",
            "Fecha de creacion: 2009-11-19 12:12:58\n"
          ]
        }
      ]
    },
    {
      "cell_type": "code",
      "source": [
        "datos = {\n",
        "        'id_post': [],\n",
        "        'titulo_post': [],\n",
        "        'fecha_post': [],\n",
        "        'autor_post': [],\n",
        "        'URL': [],\n",
        "        'numero_comentarios': [],\n",
        "        'texto_post': [],\n",
        "        'Puntaje_post': [],\n",
        "}\n",
        "\n",
        "# Definir los datos que se extraeran de cada comentario\n",
        "comentarios = {\n",
        "        'id_post': [],\n",
        "        'id_comentario': [],\n",
        "        'autor_comentario': [],\n",
        "        'texto_comentario': [],\n",
        "        'fecha_comentario': []\n",
        "}\n",
        "subreddit_obj = reddit.subreddit(\"volleyball\")\n",
        "contador_validos = 0\n",
        "cantidad_deseada = 120\n",
        "\n",
        "post_stream = subreddit_obj.top(limit=None, time_filter='all')\n",
        "\n",
        "for post in post_stream:\n",
        "    if post.num_comments < 10:\n",
        "        continue\n",
        "\n",
        "    extraccion_info_post(post)\n",
        "    contador_validos += 1\n",
        "\n",
        "    if contador_validos == cantidad_deseada:\n",
        "        break\n",
        "df_posts = pd.DataFrame(datos)\n",
        "df_comentarios = pd.DataFrame(comentarios)\n",
        "df_posts.to_csv('posts_reddit_2.csv', index=False, encoding='utf-8-sig')\n",
        "df_comentarios.to_csv('comentarios_reddit_2.csv', index=False, encoding='utf-8-sig')\n",
        "print(\"Posts Extraidos:\", contador_validos)"
      ],
      "metadata": {
        "colab": {
          "base_uri": "https://localhost:8080/"
        },
        "id": "2OjACW8e_LAc",
        "outputId": "e8dcb758-aad4-4304-ae18-9975e319bb18"
      },
      "execution_count": 19,
      "outputs": [
        {
          "output_type": "stream",
          "name": "stdout",
          "text": [
            "Posts Extraidos: 120\n"
          ]
        }
      ]
    },
    {
      "cell_type": "markdown",
      "source": [
        "\n",
        "## SubReddit 3"
      ],
      "metadata": {
        "id": "NiU-NgY6lnRs"
      }
    },
    {
      "cell_type": "code",
      "source": [
        "info_subreddit(reddit.subreddit(\"datascience\"))"
      ],
      "metadata": {
        "id": "R6Z0lRYblzs6",
        "colab": {
          "base_uri": "https://localhost:8080/"
        },
        "outputId": "412ca6ac-7929-4a84-9911-3e760aaceb37"
      },
      "execution_count": 20,
      "outputs": [
        {
          "output_type": "stream",
          "name": "stdout",
          "text": [
            "Nombre completo: r/datascience\n",
            "Titulo: Data Science\n",
            "Descripcion: A space for data science professionals to engage in discussions and debates on the subject of data science.\n",
            "Suscriptores: 2664687\n",
            "Usuarios activos: 84\n",
            "Fecha de creacion: 2011-08-06 11:43:42\n"
          ]
        }
      ]
    },
    {
      "cell_type": "code",
      "source": [
        "datos = {\n",
        "        'id_post': [],\n",
        "        'titulo_post': [],\n",
        "        'fecha_post': [],\n",
        "        'autor_post': [],\n",
        "        'URL': [],\n",
        "        'numero_comentarios': [],\n",
        "        'texto_post': [],\n",
        "        'Puntaje_post': [],\n",
        "}\n",
        "\n",
        "# Definir los datos que se extraeran de cada comentario\n",
        "comentarios = {\n",
        "        'id_post': [],\n",
        "        'id_comentario': [],\n",
        "        'autor_comentario': [],\n",
        "        'texto_comentario': [],\n",
        "        'fecha_comentario': []\n",
        "}\n",
        "subreddit_obj = reddit.subreddit(\"datascience\")\n",
        "contador_validos = 0\n",
        "cantidad_deseada = 120\n",
        "\n",
        "post_stream = subreddit_obj.top(limit=None, time_filter='all')\n",
        "\n",
        "for post in post_stream:\n",
        "    if post.num_comments < 10:\n",
        "        continue\n",
        "\n",
        "    extraccion_info_post(post)\n",
        "    contador_validos += 1\n",
        "\n",
        "    if contador_validos == cantidad_deseada:\n",
        "        break\n",
        "df_posts = pd.DataFrame(datos)\n",
        "df_comentarios = pd.DataFrame(comentarios)\n",
        "df_posts.to_csv('posts_reddit_3.csv', index=False, encoding='utf-8-sig')\n",
        "df_comentarios.to_csv('comentarios_reddit_3.csv', index=False, encoding='utf-8-sig')\n",
        "print(\"Posts Extraidos:\", contador_validos)"
      ],
      "metadata": {
        "colab": {
          "base_uri": "https://localhost:8080/"
        },
        "id": "rPO-LLpS_MNN",
        "outputId": "02cd57b9-bd00-403b-fce0-2f27024c8ead"
      },
      "execution_count": 21,
      "outputs": [
        {
          "output_type": "stream",
          "name": "stdout",
          "text": [
            "Posts Extraidos: 120\n"
          ]
        }
      ]
    }
  ]
}